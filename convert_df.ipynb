{
 "cells": [
  {
   "cell_type": "code",
   "execution_count": 43,
   "metadata": {},
   "outputs": [],
   "source": [
    "import pandas as pd \n",
    "import numpy as np\n",
    "import matplotlib.pyplot as plt\n",
    "import seaborn as sns\n",
    "import plotly.express as px\n",
    "import os"
   ]
  },
  {
   "cell_type": "code",
   "execution_count": 44,
   "metadata": {},
   "outputs": [],
   "source": [
    "def compress_to_1hz(df, time_col=\"timestamp\", subject_col=\"Subject\", value_col=\"value\"):\n",
    "    # 1) make sure timestamp is datetime\n",
    "    df[time_col] = pd.to_datetime(df[time_col])\n",
    "    # 2) floor to the second\n",
    "    df[\"ts_sec\"] = df[time_col].dt.floor(\"S\")\n",
    "    # 3) group by subject + floored‐second, average the value\n",
    "    out = (\n",
    "        df\n",
    "        .groupby([subject_col, \"ts_sec\"])[value_col]\n",
    "        .mean()\n",
    "        .reset_index()\n",
    "        .rename(columns={\"ts_sec\": time_col, value_col: f\"{value_col}\"})\n",
    "    )\n",
    "    return out"
   ]
  },
  {
   "cell_type": "code",
   "execution_count": 49,
   "metadata": {},
   "outputs": [],
   "source": [
    "eda_df  = pd.read_csv(\"cleaned_data/eda_data.csv\",  parse_dates=[\"timestamp\"])\n",
    "temp_df = pd.read_csv(\"cleaned_data/temp_data.csv\", parse_dates=[\"timestamp\"])\n",
    "acc_df  = pd.read_csv(\"cleaned_data/acc_data.csv.gz\", compression=\"gzip\",\n",
    "                      parse_dates=[\"timestamp\"])\n",
    "acc_df['magnitude'] = np.sqrt(acc_df['ACC_X']**2 + acc_df['ACC_Y']**2 + acc_df['ACC_Z']**2)"
   ]
  },
  {
   "cell_type": "code",
   "execution_count": 51,
   "metadata": {},
   "outputs": [
    {
     "name": "stderr",
     "output_type": "stream",
     "text": [
      "/var/folders/7b/3n14tkpn43159_mb97d03mbm0000gn/T/ipykernel_6870/898969083.py:5: FutureWarning: 'S' is deprecated and will be removed in a future version, please use 's' instead.\n",
      "  df[\"ts_sec\"] = df[time_col].dt.floor(\"S\")\n",
      "/var/folders/7b/3n14tkpn43159_mb97d03mbm0000gn/T/ipykernel_6870/898969083.py:5: FutureWarning: 'S' is deprecated and will be removed in a future version, please use 's' instead.\n",
      "  df[\"ts_sec\"] = df[time_col].dt.floor(\"S\")\n",
      "/var/folders/7b/3n14tkpn43159_mb97d03mbm0000gn/T/ipykernel_6870/898969083.py:5: FutureWarning: 'S' is deprecated and will be removed in a future version, please use 's' instead.\n",
      "  df[\"ts_sec\"] = df[time_col].dt.floor(\"S\")\n"
     ]
    }
   ],
   "source": [
    "eda_1hz  = compress_to_1hz(eda_df,  value_col=\"value\")\n",
    "temp_1hz = compress_to_1hz(temp_df, value_col=\"value\")\n",
    "acc_1hz  = compress_to_1hz(acc_df,  value_col=\"magnitude\")"
   ]
  },
  {
   "cell_type": "code",
   "execution_count": 52,
   "metadata": {},
   "outputs": [],
   "source": [
    "eda_1hz.to_csv(\"cleaned_data/eda.csv\", index=False)\n",
    "temp_1hz.to_csv(\"cleaned_data/temp.csv\", index=False)\n",
    "acc_1hz.to_csv(\"cleaned_data/acc.csv\", index=False)"
   ]
  },
  {
   "cell_type": "code",
   "execution_count": null,
   "metadata": {},
   "outputs": [],
   "source": []
  },
  {
   "cell_type": "code",
   "execution_count": null,
   "metadata": {},
   "outputs": [],
   "source": []
  }
 ],
 "metadata": {
  "kernelspec": {
   "display_name": "base",
   "language": "python",
   "name": "python3"
  },
  "language_info": {
   "codemirror_mode": {
    "name": "ipython",
    "version": 3
   },
   "file_extension": ".py",
   "mimetype": "text/x-python",
   "name": "python",
   "nbconvert_exporter": "python",
   "pygments_lexer": "ipython3",
   "version": "3.12.8"
  }
 },
 "nbformat": 4,
 "nbformat_minor": 2
}
